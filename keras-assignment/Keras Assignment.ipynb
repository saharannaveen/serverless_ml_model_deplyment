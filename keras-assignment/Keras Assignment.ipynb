{
 "cells": [
  {
   "cell_type": "code",
   "execution_count": 1,
   "metadata": {},
   "outputs": [
    {
     "name": "stderr",
     "output_type": "stream",
     "text": [
      "Using TensorFlow backend.\n"
     ]
    }
   ],
   "source": [
    "import keras_applications\n",
    "from keras.applications.inception_v3 import InceptionV3, preprocess_input, decode_predictions\n",
    "from keras.preprocessing import image\n",
    "import numpy as np\n",
    "import boto3, os, tempfile\n",
    "from botocore.exceptions import ClientError"
   ]
  },
  {
   "cell_type": "code",
   "execution_count": 2,
   "metadata": {},
   "outputs": [],
   "source": [
    "# enter the name of S3 bucket where your model is stored\n",
    "MODEL_BUCKET_NAME = '' \n",
    "\n",
    "# enter model file name\n",
    "MODEL_KEY_NAME = 'inception_v3_weights_tf_dim_ordering_tf_kernels.h5'\n",
    "\n",
    "# enter the name of S3 bucket where images will be uploaded\n",
    "IMG_UPLOAD_BUCKET_NAME = ''\n",
    "\n",
    "# uploaded image file name example\n",
    "IMG_KEY_NAME = 'elephant.jpg'"
   ]
  },
  {
   "cell_type": "code",
   "execution_count": 3,
   "metadata": {},
   "outputs": [],
   "source": [
    "temp_dir = 'tmp'\n",
    "\n",
    "if not os.path.exists(temp_dir):\n",
    "    os.makedirs(temp_dir)\n",
    "\n",
    "s3 = boto3.resource('s3')"
   ]
  },
  {
   "cell_type": "code",
   "execution_count": null,
   "metadata": {},
   "outputs": [],
   "source": [
    "%%time \n",
    "# this cell will download the model from your S3 bucket if it's uploaded there\n",
    "model = None\n",
    "model_path = os.path.join(temp_dir, MODEL_KEY_NAME)\n",
    "try:\n",
    "    print('Downloading model from S3...')\n",
    "    s3.Bucket(MODEL_BUCKET_NAME).download_file(MODEL_KEY_NAME, model_path)\n",
    "    print('Model downloaded to', model_path)\n",
    "\n",
    "# if the model can't be downloaded from S3 bucket, it will be loaded from the home/.keras/models directory\n",
    "# if the model isn't awailable from home/.keras/models directory, it will be downloaded \n",
    "# from official location and loaded to memory\n",
    "except ClientError as error: \n",
    "    print(error)\n",
    "    print('Loading model from official destination...')\n",
    "    model = InceptionV3()\n",
    "    print('Model loaded.')"
   ]
  },
  {
   "cell_type": "code",
   "execution_count": null,
   "metadata": {},
   "outputs": [],
   "source": [
    "%%time\n",
    "# if the model is downloaded from S3 bucket, it will be loaded to memory\n",
    "if model is None:\n",
    "    print('Loading model...')\n",
    "    model = InceptionV3(weights=model_path)\n",
    "    print('Model loaded.')"
   ]
  },
  {
   "cell_type": "code",
   "execution_count": null,
   "metadata": {},
   "outputs": [],
   "source": [
    "print('Downloading image...')\n",
    "tmp_file = tempfile.NamedTemporaryFile(dir=temp_dir, delete=False)\n",
    "img_object = s3.Bucket(IMG_UPLOAD_BUCKET_NAME).Object(IMG_KEY_NAME)\n",
    "img_object.download_fileobj(tmp_file)\n",
    "tmp_file.close()\n",
    "print('Image downloaded to', tmp_file.name)"
   ]
  },
  {
   "cell_type": "code",
   "execution_count": 7,
   "metadata": {},
   "outputs": [],
   "source": [
    "image_path = tmp_file.name"
   ]
  },
  {
   "cell_type": "code",
   "execution_count": 8,
   "metadata": {},
   "outputs": [],
   "source": [
    "img = image.load_img(image_path, target_size=(299, 299))\n",
    "x = image.img_to_array(img)\n",
    "x = np.expand_dims(x, axis=0) \n",
    "x = preprocess_input(x)"
   ]
  },
  {
   "cell_type": "code",
   "execution_count": null,
   "metadata": {},
   "outputs": [],
   "source": [
    "print('Predicting...')\n",
    "preds = model.predict(x)\n",
    "print(preds.shape)"
   ]
  },
  {
   "cell_type": "code",
   "execution_count": null,
   "metadata": {},
   "outputs": [],
   "source": [
    "print('Predicted:', decode_predictions(preds, top=3)[0])"
   ]
  },
  {
   "cell_type": "code",
   "execution_count": null,
   "metadata": {},
   "outputs": [],
   "source": [
    "keras_applications.imagenet_utils.CLASS_INDEX"
   ]
  },
  {
   "cell_type": "code",
   "execution_count": null,
   "metadata": {},
   "outputs": [],
   "source": []
  },
  {
   "cell_type": "code",
   "execution_count": null,
   "metadata": {},
   "outputs": [],
   "source": []
  },
  {
   "cell_type": "code",
   "execution_count": null,
   "metadata": {},
   "outputs": [],
   "source": []
  }
 ],
 "metadata": {
  "kernelspec": {
   "display_name": "Python 3",
   "language": "python",
   "name": "python3"
  },
  "language_info": {
   "codemirror_mode": {
    "name": "ipython",
    "version": 3
   },
   "file_extension": ".py",
   "mimetype": "text/x-python",
   "name": "python",
   "nbconvert_exporter": "python",
   "pygments_lexer": "ipython3",
   "version": "3.6.8"
  }
 },
 "nbformat": 4,
 "nbformat_minor": 2
}
